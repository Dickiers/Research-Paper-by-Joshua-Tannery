{
 "cells": [
  {
   "cell_type": "code",
   "execution_count": null,
   "metadata": {},
   "outputs": [],
   "source": []
  },
  {
   "cell_type": "markdown",
   "metadata": {},
   "source": [
    "##### From the gathered standard error, we can also calculate the confidence interval\n",
    "A confidence interval is a range of values that is likely to contain the true value of a population parameter with a certain degree of confidence. In other words, it is an estimate of the range of values within which the true population parameter is expected to fall, based on a sample from that population.\n",
    "\\\n",
    "\\\n",
    "Let's calculate the confidence interval for allowance_permonth and spending_amount variable with a 80% degree of freedom\n"
   ]
  },
  {
   "cell_type": "code",
   "execution_count": null,
   "metadata": {},
   "outputs": [
    {
     "name": "stdout",
     "output_type": "stream",
     "text": [
      "(582106.1190688921, 795727.2142644412)\n",
      "(291056.28879586194, 373185.4694458963)\n"
     ]
    }
   ],
   "source": [
    "confidence_level = 0.9\n",
    "def confidence_interval(variable):\n",
    "    ci = t.interval(confidence_level, len(df) - 1,loc= df[variable].mean(), scale= df[variable].sem())\n",
    "    return ci\n",
    "print(confidence_interval('allowance_permonth'))\n",
    "print(confidence_interval('spending_amount'))"
   ]
  },
  {
   "cell_type": "markdown",
   "metadata": {},
   "source": [
    "Therefore, we are 90% confident that the true population mean falls within:\n",
    "* Rp. 564.316 - Rp. 781.717 for allowance_permonth\n",
    "* Rp. 287.166 - Rp. 369.552 for spending_amount"
   ]
  }
 ],
 "metadata": {
  "language_info": {
   "name": "python"
  },
  "orig_nbformat": 4
 },
 "nbformat": 4,
 "nbformat_minor": 2
}
