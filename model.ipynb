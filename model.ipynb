{
 "cells": [
  {
   "cell_type": "code",
   "execution_count": 240,
   "metadata": {},
   "outputs": [],
   "source": [
    "# Data processing, CSV file I/O\n",
    "import pandas as pd\n",
    "# Pandas display option so int & float values will not be shown in scientific notation\n",
    "pd.options.display.float_format = '{:.2f}'.format\n",
    "# Pandas display option so output will be printed with all of the columns\n",
    "pd.set_option('display.max_rows', 500)\n",
    "pd.set_option('display.max_columns', 500)\n",
    "pd.set_option('display.width', 1000)\n",
    "# Scikit-learn frameworks needed to build the predictive model\n",
    "from sklearn.linear_model import LogisticRegression\n",
    "from sklearn.metrics import accuracy_score\n",
    "from sklearn.model_selection import train_test_split\n",
    "from sklearn.preprocessing import StandardScaler\n",
    "from sklearn.compose import ColumnTransformer\n"
   ]
  },
  {
   "cell_type": "code",
   "execution_count": 241,
   "metadata": {},
   "outputs": [],
   "source": [
    "df = pd.read_csv('preprocess.csv')\n",
    "df_nonstandardize = df.copy()"
   ]
  },
  {
   "attachments": {},
   "cell_type": "markdown",
   "metadata": {},
   "source": [
    "#### Standardizing numeric inputs"
   ]
  },
  {
   "cell_type": "code",
   "execution_count": 242,
   "metadata": {},
   "outputs": [],
   "source": [
    "transformer = ColumnTransformer(transformers=[\n",
    "    ('scaler', StandardScaler(), ['age', 'allowance_permonth', 'ordering_amount', 'spending_amount', 'goingout_amount'])\n",
    "], remainder='passthrough')\n",
    "df[['age', 'allowance_permonth', 'ordering_amount', 'spending_amount', 'goingout_amount']] = transformer.fit_transform(df[['age', 'allowance_permonth', 'ordering_amount', 'spending_amount', 'goingout_amount']])"
   ]
  },
  {
   "attachments": {},
   "cell_type": "markdown",
   "metadata": {},
   "source": [
    "#### Building predictive model (Standardized values)"
   ]
  },
  {
   "cell_type": "code",
   "execution_count": 243,
   "metadata": {},
   "outputs": [],
   "source": [
    "\n",
    "logreg = LogisticRegression()\n",
    "result = []\n",
    "def predictionModel(output):\n",
    "    for i in range(100):\n",
    "        predictors = df.drop(['interest_output', 'expense_output'], axis=1)\n",
    "        target = df[output]\n",
    "        x_train, x_val, y_train, y_val = train_test_split(predictors, target, test_size = 0.20, random_state = i)\n",
    "        logreg = LogisticRegression()\n",
    "        logreg.fit(x_train, y_train)\n",
    "        y_pred = logreg.predict(x_val)\n",
    "        acc_logreg = round(accuracy_score(y_pred, y_val) * 100, 2)\n",
    "        result.append(acc_logreg)"
   ]
  },
  {
   "attachments": {},
   "cell_type": "markdown",
   "metadata": {},
   "source": [
    "Interest score"
   ]
  },
  {
   "cell_type": "code",
   "execution_count": 244,
   "metadata": {},
   "outputs": [
    {
     "data": {
      "text/plain": [
       "66.23150000000001"
      ]
     },
     "execution_count": 244,
     "metadata": {},
     "output_type": "execute_result"
    }
   ],
   "source": [
    "predictionModel('interest_output')\n",
    "result_series = pd.Series(result)\n",
    "result_series.mean()"
   ]
  },
  {
   "attachments": {},
   "cell_type": "markdown",
   "metadata": {},
   "source": [
    "Expense score"
   ]
  },
  {
   "cell_type": "code",
   "execution_count": 245,
   "metadata": {},
   "outputs": [
    {
     "data": {
      "text/plain": [
       "63.88540000000001"
      ]
     },
     "execution_count": 245,
     "metadata": {},
     "output_type": "execute_result"
    }
   ],
   "source": [
    "predictionModel('expense_output')\n",
    "result_series = pd.Series(result)\n",
    "result_series.mean()"
   ]
  },
  {
   "attachments": {},
   "cell_type": "markdown",
   "metadata": {},
   "source": [
    "##### Accuracy result without standardizing"
   ]
  },
  {
   "cell_type": "code",
   "execution_count": 246,
   "metadata": {},
   "outputs": [],
   "source": [
    "\n",
    "logreg = LogisticRegression()\n",
    "result2 = []\n",
    "def predictionModel(output):\n",
    "    for i in range(100):\n",
    "        predictors = df_nonstandardize.drop(['interest_output', 'expense_output'], axis=1)\n",
    "        target = df_nonstandardize[output]\n",
    "        x_train, x_val, y_train, y_val = train_test_split(predictors, target, test_size = 0.20, random_state = i)\n",
    "        logreg = LogisticRegression()\n",
    "        logreg.fit(x_train, y_train)\n",
    "        y_pred = logreg.predict(x_val)\n",
    "        acc_logreg = round(accuracy_score(y_pred, y_val) * 100, 2)\n",
    "        result2.append(acc_logreg)"
   ]
  },
  {
   "attachments": {},
   "cell_type": "markdown",
   "metadata": {},
   "source": [
    "Interest score"
   ]
  },
  {
   "cell_type": "code",
   "execution_count": 247,
   "metadata": {},
   "outputs": [
    {
     "data": {
      "text/plain": [
       "73.7695"
      ]
     },
     "execution_count": 247,
     "metadata": {},
     "output_type": "execute_result"
    }
   ],
   "source": [
    "predictionModel('interest_output')\n",
    "result_series2 = pd.Series(result2)\n",
    "# result_series.mean()\n",
    "result_series2.mean()"
   ]
  },
  {
   "attachments": {},
   "cell_type": "markdown",
   "metadata": {},
   "source": [
    "Expense score"
   ]
  },
  {
   "cell_type": "code",
   "execution_count": 249,
   "metadata": {},
   "outputs": [
    {
     "data": {
      "text/plain": [
       "72.693"
      ]
     },
     "execution_count": 249,
     "metadata": {},
     "output_type": "execute_result"
    }
   ],
   "source": [
    "predictionModel('expense_output')\n",
    "result_series2 = pd.Series(result2)\n",
    "# result_series.mean()\n",
    "result_series2.mean()"
   ]
  },
  {
   "cell_type": "code",
   "execution_count": null,
   "metadata": {},
   "outputs": [],
   "source": []
  }
 ],
 "metadata": {
  "kernelspec": {
   "display_name": "py3-TF2.0",
   "language": "python",
   "name": "python3"
  },
  "language_info": {
   "codemirror_mode": {
    "name": "ipython",
    "version": 3
   },
   "file_extension": ".py",
   "mimetype": "text/x-python",
   "name": "python",
   "nbconvert_exporter": "python",
   "pygments_lexer": "ipython3",
   "version": "3.10.4"
  },
  "orig_nbformat": 4
 },
 "nbformat": 4,
 "nbformat_minor": 2
}
